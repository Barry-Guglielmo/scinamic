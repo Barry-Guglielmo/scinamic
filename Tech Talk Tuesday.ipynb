{
 "cells": [
  {
   "cell_type": "markdown",
   "id": "4d85fde8",
   "metadata": {},
   "source": [
    "# Tech Talk Tuesday: ETL's \n",
    "I have been developing the Scinamic Integration so I will use this one as the example. Fortunately, you can grab Scinamic data in batches of 1K. \n",
    "\n",
    "This took our ETL from 17 hours to several minutes."
   ]
  },
  {
   "cell_type": "code",
   "execution_count": 1,
   "id": "fb0d8582",
   "metadata": {},
   "outputs": [
    {
     "ename": "NameError",
     "evalue": "name 'image' is not defined",
     "output_type": "error",
     "traceback": [
      "\u001b[0;31m---------------------------------------------------------------------------\u001b[0m",
      "\u001b[0;31mNameError\u001b[0m                                 Traceback (most recent call last)",
      "Cell \u001b[0;32mIn[1], line 2\u001b[0m\n\u001b[1;32m      1\u001b[0m \u001b[38;5;28;01mfrom\u001b[39;00m \u001b[38;5;21;01mconfig\u001b[39;00m \u001b[38;5;28;01mimport\u001b[39;00m \u001b[38;5;241m*\u001b[39m \u001b[38;5;66;03m# the user password and endpoint stored in config\u001b[39;00m\n\u001b[0;32m----> 2\u001b[0m \u001b[38;5;28;01mfrom\u001b[39;00m \u001b[38;5;21;01mapi\u001b[39;00m \u001b[38;5;28;01mimport\u001b[39;00m \u001b[38;5;241m*\u001b[39m \u001b[38;5;66;03m# has the Scinamic_Compounds class etc.\u001b[39;00m\n\u001b[1;32m      3\u001b[0m \u001b[38;5;28;01mimport\u001b[39;00m \u001b[38;5;21;01mtime\u001b[39;00m \u001b[38;5;66;03m# just for demonstrating speed of ETL\u001b[39;00m\n",
      "File \u001b[0;32m~/Documents/github/livedesign-integrations/scinamic/api.py:210\u001b[0m\n\u001b[1;32m    207\u001b[0m \u001b[38;5;28;01mimport\u001b[39;00m \u001b[38;5;21;01mio\u001b[39;00m\n\u001b[1;32m    208\u001b[0m \u001b[38;5;28;01mimport\u001b[39;00m \u001b[38;5;21;01msqlite3\u001b[39;00m\n\u001b[0;32m--> 210\u001b[0m \u001b[38;5;28;01mclass\u001b[39;00m \u001b[38;5;21;01mScinamic_Curve\u001b[39;00m:\n\u001b[1;32m    211\u001b[0m     \u001b[38;5;28;01mdef\u001b[39;00m \u001b[38;5;21m__init__\u001b[39m(\u001b[38;5;28mself\u001b[39m, session):\n\u001b[1;32m    212\u001b[0m         \u001b[38;5;66;03m# we may need multiple calls, but lets start simple\u001b[39;00m\n\u001b[1;32m    213\u001b[0m         \u001b[38;5;28mself\u001b[39m\u001b[38;5;241m.\u001b[39msession \u001b[38;5;241m=\u001b[39m session\n",
      "File \u001b[0;32m~/Documents/github/livedesign-integrations/scinamic/api.py:232\u001b[0m, in \u001b[0;36mScinamic_Curve\u001b[0;34m()\u001b[0m\n\u001b[1;32m    229\u001b[0m     conn\u001b[38;5;241m.\u001b[39mcommit()\n\u001b[1;32m    230\u001b[0m     conn\u001b[38;5;241m.\u001b[39mclose()\n\u001b[0;32m--> 232\u001b[0m insert_image_into_database(\u001b[43mimage\u001b[49m, \u001b[38;5;124m'\u001b[39m\u001b[38;5;124ma\u001b[39m\u001b[38;5;124m'\u001b[39m,\u001b[38;5;124m'\u001b[39m\u001b[38;5;124mb\u001b[39m\u001b[38;5;124m'\u001b[39m,\u001b[38;5;124m'\u001b[39m\u001b[38;5;124mc\u001b[39m\u001b[38;5;124m'\u001b[39m)\n",
      "\u001b[0;31mNameError\u001b[0m: name 'image' is not defined"
     ]
    }
   ],
   "source": [
    "from config import * # the user password and endpoint stored in config\n",
    "from api import * # has the Scinamic_Compounds class etc.\n",
    "import time # just for demonstrating speed of ETL"
   ]
  },
  {
   "cell_type": "code",
   "execution_count": 10,
   "id": "94a7f20f",
   "metadata": {},
   "outputs": [],
   "source": [
    "sci_session = Scinamic_Session(SCINAMIC_API_CONFIG)"
   ]
  },
  {
   "cell_type": "markdown",
   "id": "eab2d9aa",
   "metadata": {},
   "source": [
    "# Clear Ways to Get Data from API\n",
    "General SA Level Knowledge:\n",
    "The classes below are all defined in api.py"
   ]
  },
  {
   "cell_type": "code",
   "execution_count": 11,
   "id": "c50b7c30",
   "metadata": {},
   "outputs": [],
   "source": [
    "compounds = Scinamic_Compounds(sci_session)\n",
    "analysis = Scinamic_Analysis(sci_session)\n",
    "projects = Scinamic_Projects(sci_session)\n",
    "studies = Scinamic_Studies(sci_session)\n",
    "results = Scinamic_Results(sci_session)\n",
    "compoundbatches = Scinamic_CompoundBatches(sci_session)\n",
    "curves = Scinamic_Curves(sci_session)"
   ]
  },
  {
   "cell_type": "markdown",
   "id": "984cd7c2",
   "metadata": {},
   "source": [
    "# Using \"get_all_data\" Function\n",
    "\n",
    "Start with Compounds"
   ]
  },
  {
   "cell_type": "code",
   "execution_count": 14,
   "id": "60f83eff",
   "metadata": {},
   "outputs": [
    {
     "name": "stdout",
     "output_type": "stream",
     "text": [
      "Gathering All Compound Data Took: 2.45 Seconds\n",
      "There are 6509 Compounds\n"
     ]
    }
   ],
   "source": [
    "start = time.time()\n",
    "compounds.get_all_data()\n",
    "print(\"Gathering All Compound Data Took: %.2f Seconds\\nThere are %i Compounds\"%(time.time()-start,len(compounds.pks)))"
   ]
  },
  {
   "cell_type": "code",
   "execution_count": 28,
   "id": "210e6cdd",
   "metadata": {
    "scrolled": true
   },
   "outputs": [
    {
     "data": {
      "text/plain": [
       "{'pk': '7249403',\n",
       " 'id': 'ALK-0005548',\n",
       " 'creation_user': 'cquesnelle',\n",
       " 'creation_date': '2023-05-04 16:48:02',\n",
       " 'lastedit_user': '',\n",
       " 'projects': 'A&CSP1',\n",
       " 'mw': '843.9121',\n",
       " 'exact_mass': '843.2911',\n",
       " 'formula': 'C42H41N11O7S',\n",
       " 'smiles': 'O=C(CCN1C=C(CCCCS(=O)(=O)C2=CC=CC(NC3=NC=C4C=CN=C(N5CCC(CC5)C#N)C4=C3)=C2)N=N1)NC1=CC=C2C(=O)N(C3CCC(=O)NC3=O)C(=O)C2=C1 |c:16,24,38,40,43,66,t:5,14,20,22,26,47,49|',\n",
       " 'stereochemistry': 'RACEMIC',\n",
       " 'lg_formula': 'NA',\n",
       " 'hb_donor_count': '3',\n",
       " 'ring_count': '8',\n",
       " 'aromatic_ring_count': '6',\n",
       " 'xlogp': '2.93',\n",
       " 'alogp': '3.3698',\n",
       " 'tpsa': '250.72',\n",
       " 'lipinski_failures': '3',\n",
       " 'active': 'true',\n",
       " 'group': 'A&CSP1',\n",
       " 'entity': 'Compound'}"
      ]
     },
     "execution_count": 28,
     "metadata": {},
     "output_type": "execute_result"
    }
   ],
   "source": [
    "compounds.data[0]"
   ]
  },
  {
   "cell_type": "markdown",
   "id": "3640e058",
   "metadata": {},
   "source": [
    "# Results"
   ]
  },
  {
   "cell_type": "code",
   "execution_count": 31,
   "id": "cecaaec9",
   "metadata": {},
   "outputs": [
    {
     "name": "stdout",
     "output_type": "stream",
     "text": [
      "Gathering All Compound Data Took: 30.05 Seconds\n",
      "There are 76753 Results in Scinamic\n"
     ]
    }
   ],
   "source": [
    "start = time.time()\n",
    "results.get_all_data()\n",
    "print(\"Gathering All Result Data Took: %.2f Seconds\\nThere are %i Results in Scinamic\"%((time.time()-start),len(results.pks)))"
   ]
  },
  {
   "cell_type": "code",
   "execution_count": 32,
   "id": "5a7d596d",
   "metadata": {},
   "outputs": [
    {
     "data": {
      "text/plain": [
       "{'pk': '6966944',\n",
       " 'compound': 'ALK-0003445',\n",
       " 'compoundbatch': 'ALK-0003445-01',\n",
       " 'study': 'IntactMS-SP',\n",
       " 'value_type': 'adduct0_percent',\n",
       " 'value_numeric': '100.0',\n",
       " 'protein': 'NRAS.1',\n",
       " 'status': 'valid',\n",
       " 'project': 'NONE',\n",
       " 'proteinbatch': 'NRAS.1-01',\n",
       " 'timepoint': '24.0',\n",
       " 'timepoint_unit': 'h',\n",
       " 'user': 'seron',\n",
       " 'analysis': 'A-2023-0040',\n",
       " 'source': 'PureHoneyTech',\n",
       " 'time': '2023-02-02 10:57:36',\n",
       " 'compoundrequest': 'CR20221212-1',\n",
       " 'entity': 'Result'}"
      ]
     },
     "execution_count": 32,
     "metadata": {},
     "output_type": "execute_result"
    }
   ],
   "source": [
    "results.data[0]"
   ]
  },
  {
   "cell_type": "markdown",
   "id": "075a9de5",
   "metadata": {},
   "source": [
    "# Curves W.I.P\n",
    "\n",
    "Curves and other images should be handled the same*\n",
    "\n",
    "There may be differences of processing images and curves, but we need a single standard to retrieve and store the images. I propose an \"Image Service\" opposed to curve serve. As LD continues with biologics we will be bringing in histology and other data types. A flask app that serves these images will be necessary. \n",
    "\n",
    "No matter the image holds the endpoint will be unique and it simply points at an image in a persistant volume (k8s)\n",
    "\n",
    "This is a step that would require indexing for regular pulls."
   ]
  },
  {
   "cell_type": "code",
   "execution_count": 48,
   "id": "cf019791",
   "metadata": {},
   "outputs": [
    {
     "name": "stdout",
     "output_type": "stream",
     "text": [
      "Generating Single Curve Took: 0.34 Seconds\n",
      "There are 9335 Curves in Scinamic, therefore the estimated time to render all curves: 53.26 Minutes\n"
     ]
    }
   ],
   "source": [
    "import base64\n",
    "from PIL import Image\n",
    "import io\n",
    "# comes back as string\n",
    "start = time.time()\n",
    "image_data = sci_session.get_curve(curves.pks[0]).data\n",
    "decoded_data = base64.b64decode(image_data)\n",
    "image_stream = io.BytesIO(decoded_data)\n",
    "image = Image.open(image_stream)\n",
    "# image.save('image.png')\n",
    "image.show()\n",
    "print(\"Generating Single Curve Took: %.2f Seconds\\nThere are %i Curves in Scinamic, therefore the estimated time to render all curves: %.2f Minutes\"%((time.time()-start),len(curves.pks),(len(curves.pks)*(time.time()-start))/60))"
   ]
  },
  {
   "cell_type": "markdown",
   "id": "9b548801",
   "metadata": {},
   "source": [
    "# Map to SimpleSchema"
   ]
  },
  {
   "cell_type": "code",
   "execution_count": 4,
   "id": "317e1e11",
   "metadata": {},
   "outputs": [],
   "source": [
    "simp_session = SimpleSchema_Session(SIMPLE_SCHEMA_DB_CONFIG)"
   ]
  },
  {
   "cell_type": "code",
   "execution_count": 33,
   "id": "4c3ee4f9",
   "metadata": {},
   "outputs": [],
   "source": [
    "# simp_session.create_tables()\n",
    "simp_session.clear_all()"
   ]
  },
  {
   "cell_type": "code",
   "execution_count": 34,
   "id": "a5479152",
   "metadata": {},
   "outputs": [],
   "source": [
    "from map import * # We can change the name (suggestions?)\n",
    "from scinamic_utils import *\n",
    "add_projects_to_ss()"
   ]
  },
  {
   "cell_type": "code",
   "execution_count": 35,
   "id": "1e533fec",
   "metadata": {},
   "outputs": [
    {
     "name": "stderr",
     "output_type": "stream",
     "text": [
      "[13:54:23] Explicit valence for atom # 1 N, 4, is greater than permitted\n"
     ]
    },
    {
     "name": "stdout",
     "output_type": "stream",
     "text": [
      "error creating molfile\n"
     ]
    },
    {
     "name": "stderr",
     "output_type": "stream",
     "text": [
      "[13:54:28] Explicit valence for atom # 1 N, 4, is greater than permitted\n"
     ]
    },
    {
     "name": "stdout",
     "output_type": "stream",
     "text": [
      "error creating molfile\n"
     ]
    },
    {
     "name": "stderr",
     "output_type": "stream",
     "text": [
      "[13:54:48] Explicit valence for atom # 1 N, 4, is greater than permitted\n",
      "[13:54:48] Explicit valence for atom # 1 N, 4, is greater than permitted\n"
     ]
    },
    {
     "name": "stdout",
     "output_type": "stream",
     "text": [
      "error creating molfile\n",
      "error creating molfile\n"
     ]
    },
    {
     "name": "stderr",
     "output_type": "stream",
     "text": [
      "[13:54:54] Explicit valence for atom # 1 N, 4, is greater than permitted\n"
     ]
    },
    {
     "name": "stdout",
     "output_type": "stream",
     "text": [
      "error creating molfile\n"
     ]
    },
    {
     "name": "stderr",
     "output_type": "stream",
     "text": [
      "[13:55:05] Explicit valence for atom # 1 N, 4, is greater than permitted\n"
     ]
    },
    {
     "name": "stdout",
     "output_type": "stream",
     "text": [
      "error creating molfile\n",
      "Mapping compounds took: 2.48 Minutes\n"
     ]
    }
   ],
   "source": [
    "# compounds.get_all_data() # 3 seconds\n",
    "start = time.time()\n",
    "compound_map(compounds)\n",
    "print(\"Mapping compounds took: %.2f Minutes\"%((time.time()-start)/60))"
   ]
  },
  {
   "cell_type": "markdown",
   "id": "871a83dd",
   "metadata": {},
   "source": [
    "# Map Assay (Root from Results)"
   ]
  },
  {
   "cell_type": "code",
   "execution_count": 37,
   "id": "1a9bfee9",
   "metadata": {},
   "outputs": [
    {
     "name": "stdout",
     "output_type": "stream",
     "text": [
      "Mapping Assay Data took: 8.34 Minutes\n"
     ]
    }
   ],
   "source": [
    "# results.get_all_data() # 30 seconds\n",
    "start = time.time()\n",
    "assay_map(results)\n",
    "print(\"Mapping Assay Data took: %.2f Minutes\"%((time.time()-start)/60))"
   ]
  },
  {
   "cell_type": "code",
   "execution_count": null,
   "id": "987c9c9c",
   "metadata": {},
   "outputs": [],
   "source": []
  }
 ],
 "metadata": {
  "kernelspec": {
   "display_name": "Python 3 (ipykernel)",
   "language": "python",
   "name": "python3"
  },
  "language_info": {
   "codemirror_mode": {
    "name": "ipython",
    "version": 3
   },
   "file_extension": ".py",
   "mimetype": "text/x-python",
   "name": "python",
   "nbconvert_exporter": "python",
   "pygments_lexer": "ipython3",
   "version": "3.8.16"
  }
 },
 "nbformat": 4,
 "nbformat_minor": 5
}
